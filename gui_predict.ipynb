{
 "cells": [
  {
   "cell_type": "code",
   "execution_count": 1,
   "id": "193db8f3-ce94-4a64-936d-a50867eb4b5c",
   "metadata": {},
   "outputs": [],
   "source": [
    "import tkinter as tk\n",
    "from tkinter import messagebox\n",
    "import pickle\n",
    "import string\n",
    "\n",
    "# Preprocess text\n",
    "def clean_text(text):\n",
    "    return text.lower().translate(str.maketrans('', '', string.punctuation))\n",
    "\n",
    "# Load model and vectorizer\n",
    "with open('spam_model.pkl', 'rb') as f:\n",
    "    model, vectorizer = pickle.load(f)\n",
    "\n",
    "# Predict function\n",
    "def classify_message():\n",
    "    msg = entry.get(\"1.0\", tk.END).strip()\n",
    "    if not msg:\n",
    "        messagebox.showwarning(\"Input Error\", \"Please enter a message.\")\n",
    "        return\n",
    "    \n",
    "    clean = clean_text(msg)\n",
    "    vec = vectorizer.transform([clean])\n",
    "    result = model.predict(vec)[0]\n",
    "    \n",
    "    output_label.config(\n",
    "        text=\"Prediction: Spam \" if result == 1 else \"Prediction: Not Spam \",\n",
    "        fg=\"red\" if result == 1 else \"green\"\n",
    "    )\n",
    "\n",
    "# GUI setup\n",
    "root = tk.Tk()\n",
    "root.title(\"Spam Email Classifier\")\n",
    "root.geometry(\"400x300\")\n",
    "root.config(padx=20, pady=20)\n",
    "\n",
    "title = tk.Label(root, text=\"Spam Email Classifier\", font=(\"Helvetica\", 16, \"bold\"))\n",
    "title.pack(pady=10)\n",
    "\n",
    "entry = tk.Text(root, height=5, width=40, font=(\"Arial\", 12))\n",
    "entry.pack()\n",
    "\n",
    "btn = tk.Button(root, text=\"Check Message\", command=classify_message, font=(\"Arial\", 12))\n",
    "btn.pack(pady=10)\n",
    "\n",
    "output_label = tk.Label(root, text=\"\", font=(\"Arial\", 14))\n",
    "output_label.pack()\n",
    "\n",
    "root.mainloop()\n"
   ]
  },
  {
   "cell_type": "code",
   "execution_count": null,
   "id": "fdbe6713-65a9-42cf-a328-25ac1141218a",
   "metadata": {},
   "outputs": [],
   "source": []
  }
 ],
 "metadata": {
  "kernelspec": {
   "display_name": "Python 3 (ipykernel)",
   "language": "python",
   "name": "python3"
  },
  "language_info": {
   "codemirror_mode": {
    "name": "ipython",
    "version": 3
   },
   "file_extension": ".py",
   "mimetype": "text/x-python",
   "name": "python",
   "nbconvert_exporter": "python",
   "pygments_lexer": "ipython3",
   "version": "3.12.7"
  }
 },
 "nbformat": 4,
 "nbformat_minor": 5
}
